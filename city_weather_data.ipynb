{
 "cells": [
  {
   "cell_type": "markdown",
   "metadata": {},
   "source": [
    "## City weather condition: Openweathermap API and Citipy"
   ]
  },
  {
   "cell_type": "code",
   "execution_count": null,
   "metadata": {
    "collapsed": true
   },
   "outputs": [],
   "source": [
    "import pandas as pd\n",
    "import numpy as np\n",
    "import csv\n",
    "import os\n",
    "import random\n",
    "import time\n",
    "import requests as rq\n",
    "from citipy import citipy\n",
    "import openweathermapy.core as ow\n",
    "import matplotlib.pyplot as plt\n",
    "import seaborn as sns\n",
    "\n",
    "os.system('touch weather500.csv')\n",
    "\n",
    "api_key = '5a67f7dc345de96a6433433dd50f1261'\n",
    "url = 'http://api.openweathermap.org/data/2.5/weather?'\n",
    "units = 'imperial'\n",
    "\n",
    "query_url = url + \"appid=\" + api_key + \"&units=\" + units + \"&q=\"\n",
    "\n",
    "# Building dataframe structure\n",
    "\n",
    "columns = ['lat','lon','City','Country','Temp (F)','Humidity (%)','Cloudiness (%)','Wind_Speed (mph)','Latitude','Longitude']\n",
    "index = np.arange(2000)\n",
    "coor_df = pd.DataFrame(columns=columns, index=index)\n",
    "\n",
    "# Randomly generating unique latitide and longtitude coordinates.\n",
    "\n",
    "seen = set()\n",
    "\n",
    "for index, row in coor_df.iterrows():\n",
    "    x,y = random.randint(-90, 90),random.randint(-180, 180)\n",
    "    while len(seen) < 500:\n",
    "        while (x, y) in seen:\n",
    "            x,y = random.randint(-90, 90),random.randint(-180, 180)\n",
    "        seen.add((x, y))\n",
    "    coor_df.loc[index,'lat'] = x\n",
    "    coor_df.loc[index,'lon'] = y\n"
   ]
  },
  {
   "cell_type": "code",
   "execution_count": null,
   "metadata": {
    "scrolled": true
   },
   "outputs": [],
   "source": [
    "coor_df.head()"
   ]
  },
  {
   "cell_type": "code",
   "execution_count": null,
   "metadata": {
    "collapsed": true
   },
   "outputs": [],
   "source": [
    "for index, row in coor_df.iterrows():\n",
    "    city = citipy.nearest_city(coor_df.loc[index,'lat'],coor_df.loc[index,'lon'])\n",
    "    coor_df.loc[index,'City'] = city.city_name\n",
    "    coor_df.loc[index,'Country'] = city.country_code"
   ]
  },
  {
   "cell_type": "code",
   "execution_count": null,
   "metadata": {
    "scrolled": true
   },
   "outputs": [],
   "source": [
    "coor_df.head()"
   ]
  },
  {
   "cell_type": "code",
   "execution_count": null,
   "metadata": {},
   "outputs": [],
   "source": [
    "citydf = coor_df.drop_duplicates(subset='City')\n",
    "citydf.head()"
   ]
  },
  {
   "cell_type": "code",
   "execution_count": null,
   "metadata": {},
   "outputs": [],
   "source": [
    "len(citydf['City'])"
   ]
  },
  {
   "cell_type": "code",
   "execution_count": null,
   "metadata": {},
   "outputs": [],
   "source": [
    "api_log = []\n",
    "\n",
    "for index, row in citydf.iterrows(): \n",
    "    weather_api = query_url + citydf.loc[index,'City'] \n",
    "    weather_data = rq.get(weather_api).json()\n",
    "    api_log.append({'URL for City': weather_api})\n",
    "    \n",
    "    temp_data = weather_data['main']['temp']\n",
    "    humid_data = weather_data['main']['humidity']\n",
    "    cloud_data = weather_data['clouds']['all']\n",
    "    wind_data = weather_data['wind']['speed']\n",
    "    lat_data = weather_data['coord']['lat']\n",
    "    lon_data = weather_data['coord']['lon']\n",
    "    \n",
    "    citydf.set_value(index,'Temp (F)',temp_data)\n",
    "    citydf.set_value(index,'Humidity', humid_data)\n",
    "    citydf.set_value(index,'Cloudiness', cloud_data)\n",
    "    citydf.set_value(index,'Wind_Speed', wind_data)\n",
    "    citydf.set_value(index,'Latitude', lat_data)\n",
    "    citydf.set_value(index,'Longitude', lon_data)\n",
    "    \n",
    "    time.sleep(5)\n"
   ]
  },
  {
   "cell_type": "code",
   "execution_count": null,
   "metadata": {},
   "outputs": [],
   "source": [
    "citydf.head()"
   ]
  },
  {
   "cell_type": "code",
   "execution_count": null,
   "metadata": {},
   "outputs": [],
   "source": [
    "api_log"
   ]
  },
  {
   "cell_type": "code",
   "execution_count": null,
   "metadata": {
    "collapsed": true
   },
   "outputs": [],
   "source": [
    "citydf.to_csv('weather500.csv')"
   ]
  },
  {
   "cell_type": "code",
   "execution_count": null,
   "metadata": {},
   "outputs": [],
   "source": [
    "# Scatter plot for Temp vs Latitude\n",
    "plt.scatter(citydf['Latitude'],citydf['Temp (F)'])\n",
    "plt.title('City Temperature (F) vs. City Latitude')\n",
    "plt.xlabel('Latitude')\n",
    "plt.ylabel('Temperature (F)')\n",
    "plt.xlim([-90,90])\n",
    "# plt.ylim([-180,180])\n",
    "\n",
    "plt.savefig('Temp vs Lat.png')\n",
    "\n",
    "plt.show()"
   ]
  },
  {
   "cell_type": "code",
   "execution_count": null,
   "metadata": {},
   "outputs": [],
   "source": [
    "# Scatter plot for Humidity vs Latitude\n",
    "plt.scatter(citydf['Latitude'],citydf['Humidity'])\n",
    "plt.title('City Humidity vs. City Latitude')\n",
    "plt.xlabel('Latitude')\n",
    "plt.ylabel('Humidity (%)')\n",
    "plt.xlim([-90,90])\n",
    "# plt.ylim([-180,180])\n",
    "\n",
    "plt.savefig('Humidity vs Lat.png')\n",
    "\n",
    "plt.show()"
   ]
  },
  {
   "cell_type": "code",
   "execution_count": null,
   "metadata": {},
   "outputs": [],
   "source": [
    "# Scatter plot for Cloudiness vs Latitude\n",
    "plt.scatter(citydf['Latitude'],citydf['Cloudiness'])\n",
    "plt.title('City Cloudiness vs. City Latitude')\n",
    "plt.xlabel('Latitude')\n",
    "plt.ylabel('Cloudiness (%)')\n",
    "plt.xlim([-90,90])\n",
    "# plt.ylim([-180,180])\n",
    "\n",
    "plt.savefig('Cloudiness vs Lat.png')\n",
    "\n",
    "plt.show()"
   ]
  },
  {
   "cell_type": "code",
   "execution_count": null,
   "metadata": {},
   "outputs": [],
   "source": [
    "# Scatter plot for Wind speed vs Latitude\n",
    "plt.scatter(citydf['Latitude'],citydf['Wind_Speed'])\n",
    "plt.title('City Wind Speed vs. City Latitude')\n",
    "plt.xlabel('Latitude')\n",
    "plt.ylabel('Wind Speed (mph)')\n",
    "plt.xlim([-90,90])\n",
    "# plt.ylim([-180,180])\n",
    "\n",
    "plt.savefig('Wind Speed vs Lat.png')\n",
    "\n",
    "plt.show()"
   ]
  },
  {
   "cell_type": "code",
   "execution_count": null,
   "metadata": {
    "collapsed": true
   },
   "outputs": [],
   "source": []
  }
 ],
 "metadata": {
  "kernelspec": {
   "display_name": "Python 3",
   "language": "python",
   "name": "python3"
  },
  "language_info": {
   "codemirror_mode": {
    "name": "ipython",
    "version": 3
   },
   "file_extension": ".py",
   "mimetype": "text/x-python",
   "name": "python",
   "nbconvert_exporter": "python",
   "pygments_lexer": "ipython3",
   "version": "3.6.1"
  }
 },
 "nbformat": 4,
 "nbformat_minor": 2
}
